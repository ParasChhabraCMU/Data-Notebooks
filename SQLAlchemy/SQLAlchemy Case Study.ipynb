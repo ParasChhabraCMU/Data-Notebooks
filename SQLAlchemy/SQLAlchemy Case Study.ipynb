{
 "cells": [
  {
   "cell_type": "markdown",
   "metadata": {},
   "source": [
    "## Introduction\n",
    "In this jupyter notebook we are going to explore databases in python particularly relational databases and exploring SQL queries in sqlalchemy (which is a pythonic way of interacting with relational databases). We will explore simple queries on filter, order and counting data. As well as we will build our own database. We will be working on census dataset. \n",
    "\n",
    "This is a case study as a part of Data Scientist Degree on DataCamp. <br> \n",
    "Credits: https://www.datacamp.com/courses/introduction-to-relational-databases-in-python"
   ]
  },
  {
   "cell_type": "markdown",
   "metadata": {},
   "source": [
    "__We import the required packages__"
   ]
  },
  {
   "cell_type": "code",
   "execution_count": 174,
   "metadata": {},
   "outputs": [],
   "source": [
    "from sqlalchemy import create_engine\n",
    "from sqlalchemy import Table\n",
    "import sqlalchemy\n",
    "from sqlalchemy import select\n",
    "from sqlalchemy import and_\n",
    "from sqlalchemy import desc\n",
    "from sqlalchemy import func\n",
    "from sqlalchemy import case, cast, Float\n",
    "from sqlalchemy import Table, Column, String, Integer, Float, Boolean\n",
    "from sqlalchemy import engine"
   ]
  },
  {
   "cell_type": "markdown",
   "metadata": {},
   "source": [
    "__We create an engine which is an interface to a databases and it requires a connection string to connect to a database__ "
   ]
  },
  {
   "cell_type": "code",
   "execution_count": 145,
   "metadata": {
    "collapsed": true
   },
   "outputs": [],
   "source": [
    "# Create an engine that connects to the census.sqlite file: engine\n",
    "engine = create_engine('sqlite:///census.sqlite')\n",
    "employee = create_engine('sqlite:///employees.sqlite')"
   ]
  },
  {
   "cell_type": "markdown",
   "metadata": {},
   "source": [
    "__Printing the table names in our census database__"
   ]
  },
  {
   "cell_type": "code",
   "execution_count": 146,
   "metadata": {},
   "outputs": [
    {
     "data": {
      "text/plain": [
       "[u'census', u'state_fact']"
      ]
     },
     "execution_count": 146,
     "metadata": {},
     "output_type": "execute_result"
    }
   ],
   "source": [
    "engine.table_names()"
   ]
  },
  {
   "cell_type": "markdown",
   "metadata": {},
   "source": [
    "__We can automatically load tables using SQLAlchemy from a database using something called reflection.__\n",
    "\n",
    "Reflection is the process of reading the database and building the metadata based on that information. It's the opposite of creating a Table by hand and is very useful for working with existing databases. We will use Table object to read the table from the database and autoload the columns. We will use MetaData object of sqlalchemy package to load the metadata and autoload is set to True. "
   ]
  },
  {
   "cell_type": "code",
   "execution_count": 147,
   "metadata": {},
   "outputs": [
    {
     "name": "stdout",
     "output_type": "stream",
     "text": [
      "Printing census table metadata.\n",
      "Table('census', MetaData(bind=None), Column('state', VARCHAR(length=30), table=<census>), Column('sex', VARCHAR(length=1), table=<census>), Column('age', INTEGER(), table=<census>), Column('pop2000', INTEGER(), table=<census>), Column('pop2008', INTEGER(), table=<census>), schema=None)\n",
      "\n",
      "Printing employee table metadata.\n",
      "Table('employees', MetaData(bind=None), Column('id', INTEGER(), table=<employees>, primary_key=True, nullable=False), Column('name', VARCHAR(length=20), table=<employees>), Column('job', VARCHAR(length=20), table=<employees>), Column('mgr', INTEGER(), table=<employees>), Column('hiredate', DATETIME(), table=<employees>), Column('sal', NUMERIC(precision=7, scale=2), table=<employees>), Column('comm', NUMERIC(precision=7, scale=2), table=<employees>), Column('dept', INTEGER(), table=<employees>), schema=None)\n"
     ]
    }
   ],
   "source": [
    "# Reflect census table from the engine: census\n",
    "metadata = sqlalchemy.sql.schema.MetaData(bind=None)\n",
    "census = Table('census',metadata, autoload=True, autoload_with=engine)\n",
    "# Print census table metadata\n",
    "print(\"Printing census table metadata.\")\n",
    "print(repr(census))\n",
    "\n",
    "\n",
    "# Reflect employee table from the engine: employee\n",
    "employees = Table('employees',metadata, autoload=True, autoload_with=employee)\n",
    "print(\"\\nPrinting employee table metadata.\")\n",
    "print(repr(employees))"
   ]
  },
  {
   "cell_type": "markdown",
   "metadata": {},
   "source": [
    "__Now we will explore the table column names and columns datatypes__"
   ]
  },
  {
   "cell_type": "code",
   "execution_count": 148,
   "metadata": {},
   "outputs": [
    {
     "name": "stdout",
     "output_type": "stream",
     "text": [
      "['state', 'sex', 'age', 'pop2000', 'pop2008']\n"
     ]
    }
   ],
   "source": [
    "# Reflect the census table from the engine: census\n",
    "census = Table('census', metadata, autoload=True, autoload_with=engine)\n",
    "\n",
    "# Print the column names\n",
    "print(census.columns.keys())"
   ]
  },
  {
   "cell_type": "code",
   "execution_count": 149,
   "metadata": {},
   "outputs": [
    {
     "name": "stdout",
     "output_type": "stream",
     "text": [
      "Table('census', MetaData(bind=None), Column('state', VARCHAR(length=30), table=<census>), Column('sex', VARCHAR(length=1), table=<census>), Column('age', INTEGER(), table=<census>), Column('pop2000', INTEGER(), table=<census>), Column('pop2008', INTEGER(), table=<census>), schema=None)\n"
     ]
    }
   ],
   "source": [
    "# Print full table metadata using repr function and metadata of census table using 'census' key \n",
    "print(repr(metadata.tables['census']))"
   ]
  },
  {
   "cell_type": "code",
   "execution_count": 150,
   "metadata": {},
   "outputs": [
    {
     "name": "stdout",
     "output_type": "stream",
     "text": [
      "['census.state', 'census.sex', 'census.age', 'census.pop2000', 'census.pop2008']\n"
     ]
    }
   ],
   "source": [
    "# Printing census table columns using .columns attribute of census table\n",
    "print(census.columns)"
   ]
  },
  {
   "cell_type": "markdown",
   "metadata": {},
   "source": [
    "___"
   ]
  },
  {
   "cell_type": "markdown",
   "metadata": {},
   "source": [
    "### Executing SQL Queries "
   ]
  },
  {
   "cell_type": "markdown",
   "metadata": {},
   "source": [
    "We are going to run SQL queries on our dataset. Execute function on our connection (engine variable) returns a ResultProxy, on this we use fetchall method to get ResultSet i.e. our results of statement stmt.  "
   ]
  },
  {
   "cell_type": "code",
   "execution_count": 151,
   "metadata": {},
   "outputs": [
    {
     "name": "stdout",
     "output_type": "stream",
     "text": [
      "(u'Illinois', u'M', 0, 89600, 95012)\n"
     ]
    }
   ],
   "source": [
    "# Build select statement for census table: stmt\n",
    "stmt = 'SELECT * FROM census'\n",
    "\n",
    "# Execute the statement and fetch the results: results\n",
    "results = engine.execute(stmt).fetchall()\n",
    "\n",
    "# Printing Results first row\n",
    "print(results[0])"
   ]
  },
  {
   "cell_type": "markdown",
   "metadata": {},
   "source": [
    "__We will use select function of sqlalchemy to get records__"
   ]
  },
  {
   "cell_type": "code",
   "execution_count": 152,
   "metadata": {},
   "outputs": [
    {
     "name": "stdout",
     "output_type": "stream",
     "text": [
      "SELECT census.state, census.sex, census.age, census.pop2000, census.pop2008 \n",
      "FROM census\n",
      "(u'Illinois', u'M', 0, 89600, 95012)\n"
     ]
    }
   ],
   "source": [
    "# Build select statement for census table: stmt\n",
    "stmt = select([census])\n",
    "\n",
    "# Print the emitted statement to see the SQL emitted\n",
    "print(stmt)\n",
    "\n",
    "# Execute the statement and printing the ResultSet first row\n",
    "result = engine.execute(stmt).fetchall()\n",
    "\n",
    "print(result[0])"
   ]
  },
  {
   "cell_type": "markdown",
   "metadata": {},
   "source": [
    "__Printing the state column of first row__"
   ]
  },
  {
   "cell_type": "code",
   "execution_count": 153,
   "metadata": {},
   "outputs": [
    {
     "name": "stdout",
     "output_type": "stream",
     "text": [
      "Illinois\n"
     ]
    }
   ],
   "source": [
    "# Print the 'state' column of the first row by using its name\n",
    "print(result[0]['state'])"
   ]
  },
  {
   "cell_type": "markdown",
   "metadata": {},
   "source": [
    "___"
   ]
  },
  {
   "cell_type": "markdown",
   "metadata": {},
   "source": [
    "### Filtering, Ordering and Counting Queries"
   ]
  },
  {
   "cell_type": "markdown",
   "metadata": {},
   "source": [
    "__First we are going to use where clause to extract rows where state is New York and then display results of first 10 and last 10 rows__"
   ]
  },
  {
   "cell_type": "code",
   "execution_count": 154,
   "metadata": {},
   "outputs": [
    {
     "name": "stdout",
     "output_type": "stream",
     "text": [
      "We have 172 rows in our result set\n"
     ]
    }
   ],
   "source": [
    "# Create a select query: stmt\n",
    "stmt = select([census])\n",
    "\n",
    "# Add a where clause to filter the results to only those for New York\n",
    "stmt = stmt.where(census.columns.state == 'New York')\n",
    "\n",
    "# Execute the query to retrieve all the data returned: results\n",
    "results = engine.execute(stmt).fetchall()\n",
    "print(\"We have \" + str(len(results))) + \" rows in our result set\""
   ]
  },
  {
   "cell_type": "code",
   "execution_count": 155,
   "metadata": {},
   "outputs": [
    {
     "data": {
      "text/plain": [
       "[(u'New York', u'M', 0, 126237, 128088),\n",
       " (u'New York', u'M', 1, 124008, 125649),\n",
       " (u'New York', u'M', 2, 124725, 121615),\n",
       " (u'New York', u'M', 3, 126697, 120580),\n",
       " (u'New York', u'M', 4, 131357, 122482),\n",
       " (u'New York', u'M', 5, 133095, 121205),\n",
       " (u'New York', u'M', 6, 134203, 120089),\n",
       " (u'New York', u'M', 7, 137986, 122355),\n",
       " (u'New York', u'M', 8, 139455, 118653),\n",
       " (u'New York', u'M', 9, 142454, 117369)]"
      ]
     },
     "execution_count": 155,
     "metadata": {},
     "output_type": "execute_result"
    }
   ],
   "source": [
    "results[:10]"
   ]
  },
  {
   "cell_type": "code",
   "execution_count": 156,
   "metadata": {},
   "outputs": [
    {
     "data": {
      "text/plain": [
       "[(u'New York', u'F', 76, 64971, 57584),\n",
       " (u'New York', u'F', 77, 61287, 56907),\n",
       " (u'New York', u'F', 78, 58911, 58456),\n",
       " (u'New York', u'F', 79, 56865, 54136),\n",
       " (u'New York', u'F', 80, 54553, 52932),\n",
       " (u'New York', u'F', 81, 46381, 50693),\n",
       " (u'New York', u'F', 82, 45599, 48206),\n",
       " (u'New York', u'F', 83, 40525, 47777),\n",
       " (u'New York', u'F', 84, 37436, 43454),\n",
       " (u'New York', u'F', 85, 226378, 273476)]"
      ]
     },
     "execution_count": 156,
     "metadata": {},
     "output_type": "execute_result"
    }
   ],
   "source": [
    "results[-10:]"
   ]
  },
  {
   "cell_type": "code",
   "execution_count": 157,
   "metadata": {},
   "outputs": [
    {
     "data": {
      "text/plain": [
       "[(u'New York', u'F', 0, 120355, 122194),\n",
       " (u'New York', u'F', 1, 118219, 119661),\n",
       " (u'New York', u'F', 2, 119577, 116413),\n",
       " (u'New York', u'F', 3, 121029, 114877),\n",
       " (u'New York', u'F', 4, 125247, 116936),\n",
       " (u'New York', u'F', 5, 128227, 116051),\n",
       " (u'New York', u'F', 6, 128428, 115186),\n",
       " (u'New York', u'F', 7, 131161, 116951),\n",
       " (u'New York', u'F', 8, 133646, 113279),\n",
       " (u'New York', u'F', 9, 135746, 111919)]"
      ]
     },
     "execution_count": 157,
     "metadata": {},
     "output_type": "execute_result"
    }
   ],
   "source": [
    "# Extracting all the rows where sex is 'F'\n",
    "stmt = stmt.where(census.columns.sex == 'F')\n",
    "\n",
    "# Execute the query to retrieve all the data returned: results\n",
    "results = engine.execute(stmt).fetchall()\n",
    "\n",
    "# printing first 10 rows of our dataset \n",
    "results[:10]"
   ]
  },
  {
   "cell_type": "markdown",
   "metadata": {},
   "source": [
    "__Let's say we want to extract all rows that match one of the states in state column.__"
   ]
  },
  {
   "cell_type": "code",
   "execution_count": 158,
   "metadata": {
    "collapsed": true
   },
   "outputs": [],
   "source": [
    "states = ['New York', 'California', 'Texas']"
   ]
  },
  {
   "cell_type": "code",
   "execution_count": 159,
   "metadata": {},
   "outputs": [
    {
     "name": "stdout",
     "output_type": "stream",
     "text": [
      "First 10 rows of resultset: \n",
      "[(u'New York', u'M', 0, 126237, 128088), (u'New York', u'M', 1, 124008, 125649), (u'New York', u'M', 2, 124725, 121615), (u'New York', u'M', 3, 126697, 120580), (u'New York', u'M', 4, 131357, 122482), (u'New York', u'M', 5, 133095, 121205), (u'New York', u'M', 6, 134203, 120089), (u'New York', u'M', 7, 137986, 122355), (u'New York', u'M', 8, 139455, 118653), (u'New York', u'M', 9, 142454, 117369)]\n",
      "\n",
      "Last 10 rows of resultset: \n",
      "[(u'Texas', u'F', 76, 52656, 54423), (u'Texas', u'F', 77, 48993, 52482), (u'Texas', u'F', 78, 47681, 53907), (u'Texas', u'F', 79, 44609, 48607), (u'Texas', u'F', 80, 42132, 46399), (u'Texas', u'F', 81, 35378, 44418), (u'Texas', u'F', 82, 33852, 41838), (u'Texas', u'F', 83, 30076, 40489), (u'Texas', u'F', 84, 27961, 36821), (u'Texas', u'F', 85, 171538, 223439)]\n"
     ]
    }
   ],
   "source": [
    "# Create a query for the census table: stmt\n",
    "stmt = select([census])\n",
    "\n",
    "# Append a where clause to match all the states in_ the list states\n",
    "stmt = stmt.where(census.columns.state.in_(states))\n",
    "result = engine.execute(stmt).fetchall()\n",
    "print(\"First 10 rows of resultset: \") \n",
    "print(result[:10])\n",
    "\n",
    "print(\"\\nLast 10 rows of resultset: \") \n",
    "print(result[-10:])"
   ]
  },
  {
   "cell_type": "markdown",
   "metadata": {},
   "source": [
    "__Selecting non-male record of california using and_ __"
   ]
  },
  {
   "cell_type": "code",
   "execution_count": 160,
   "metadata": {},
   "outputs": [
    {
     "name": "stdout",
     "output_type": "stream",
     "text": [
      "(0, u'F', 274356)\n",
      "(5, u'F', 253899)\n",
      "(10, u'F', 235225)\n",
      "(15, u'F', 259496)\n",
      "(20, u'F', 257736)\n",
      "(25, u'F', 270307)\n",
      "(30, u'F', 242518)\n",
      "(35, u'F', 247199)\n",
      "(40, u'F', 256169)\n",
      "(45, u'F', 270948)\n",
      "(50, u'F', 256885)\n",
      "(55, u'F', 224738)\n",
      "(60, u'F', 190184)\n",
      "(65, u'F', 146439)\n",
      "(70, u'F', 111154)\n",
      "(75, u'F', 91037)\n",
      "(80, u'F', 79785)\n",
      "(85, u'F', 400288)\n"
     ]
    }
   ],
   "source": [
    "# Build a query for the census table: stmt\n",
    "stmt = select([census])\n",
    "\n",
    "# Append a where clause to select only non-male records from California using and_\n",
    "stmt = stmt.where(\n",
    "    # The state of California with a non-male sex\n",
    "    and_(census.columns.state == 'California',\n",
    "         census.columns.sex != 'M'\n",
    "         )\n",
    ")\n",
    "\n",
    "# Loop over the ResultProxy printing the age, sex and population in 2008\n",
    "for result in engine.execute(stmt).fetchall()[::5]:\n",
    "    print(result.age, result.sex, result.pop2008)"
   ]
  },
  {
   "cell_type": "markdown",
   "metadata": {},
   "source": [
    "__Sorting the results using order_by clause__"
   ]
  },
  {
   "cell_type": "code",
   "execution_count": 161,
   "metadata": {},
   "outputs": [
    {
     "name": "stdout",
     "output_type": "stream",
     "text": [
      "[(u'Alabama',), (u'Alabama',), (u'Alaska',), (u'Alaska',), (u'Arizona',), (u'Arizona',), (u'Arkansas',), (u'California',), (u'California',), (u'Colorado',), (u'Colorado',), (u'Connecticut',), (u'Connecticut',), (u'Delaware',), (u'District of Columbia',), (u'District of Columbia',), (u'Florida',), (u'Florida',), (u'Georgia',), (u'Hawaii',), (u'Hawaii',), (u'Idaho',), (u'Idaho',), (u'Illinois',), (u'Illinois',), (u'Indiana',), (u'Iowa',), (u'Iowa',), (u'Kansas',), (u'Kansas',), (u'Kentucky',), (u'Louisiana',), (u'Louisiana',), (u'Maine',), (u'Maine',), (u'Maryland',), (u'Maryland',), (u'Massachusetts',), (u'Michigan',), (u'Michigan',), (u'Minnesota',), (u'Minnesota',), (u'Mississippi',), (u'Missouri',), (u'Missouri',), (u'Montana',), (u'Montana',), (u'Nebraska',), (u'Nebraska',), (u'Nevada',), (u'New Hampshire',), (u'New Hampshire',), (u'New Jersey',), (u'New Jersey',), (u'New Mexico',), (u'New Mexico',), (u'New York',), (u'North Carolina',), (u'North Carolina',), (u'North Dakota',), (u'North Dakota',), (u'Ohio',), (u'Oklahoma',), (u'Oklahoma',), (u'Oregon',), (u'Oregon',), (u'Pennsylvania',), (u'Pennsylvania',), (u'Rhode Island',), (u'South Carolina',), (u'South Carolina',), (u'South Dakota',), (u'South Dakota',), (u'Tennessee',), (u'Texas',), (u'Texas',), (u'Utah',), (u'Utah',), (u'Vermont',), (u'Vermont',), (u'Virginia',), (u'Washington',), (u'Washington',), (u'West Virginia',), (u'West Virginia',), (u'Wisconsin',), (u'Wyoming',), (u'Wyoming',)]\n"
     ]
    }
   ],
   "source": [
    "# Build a query to select the state column: stmt\n",
    "stmt = select([census.columns.state])\n",
    "\n",
    "# Order stmt by the state column\n",
    "stmt = stmt.order_by(census.columns.state)\n",
    "\n",
    "# Execute the query and store the results: results\n",
    "results = engine.execute(stmt).fetchall()\n",
    "\n",
    "# Print the result of every 100th row\n",
    "print(results[::100])"
   ]
  },
  {
   "cell_type": "markdown",
   "metadata": {},
   "source": [
    "__Sorting the results using order_by clause but in descending order using desc() function__"
   ]
  },
  {
   "cell_type": "code",
   "execution_count": 162,
   "metadata": {},
   "outputs": [
    {
     "name": "stdout",
     "output_type": "stream",
     "text": [
      "[(u'Wyoming',), (u'Wisconsin',), (u'West Virginia',), (u'Washington',), (u'Virginia',), (u'Vermont',), (u'Utah',), (u'Tennessee',), (u'South Dakota',), (u'South Carolina',), (u'Rhode Island',), (u'Pennsylvania',), (u'Oregon',), (u'Ohio',), (u'North Dakota',), (u'North Carolina',), (u'New York',), (u'New Mexico',), (u'New Jersey',), (u'Nevada',), (u'Nebraska',), (u'Montana',), (u'Missouri',), (u'Mississippi',), (u'Minnesota',), (u'Massachusetts',), (u'Maryland',), (u'Maine',), (u'Louisiana',), (u'Kentucky',), (u'Kansas',), (u'Indiana',), (u'Illinois',), (u'Idaho',), (u'Hawaii',), (u'Georgia',), (u'Florida',), (u'Delaware',), (u'Connecticut',), (u'Colorado',), (u'California',), (u'Arkansas',), (u'Arizona',), (u'Alabama',)]\n"
     ]
    }
   ],
   "source": [
    "# Build a query to select the state column: stmt\n",
    "stmt = select([census.columns.state])\n",
    "\n",
    "# Order stmt by state in descending order: rev_stmt\n",
    "rev_stmt = stmt.order_by(desc(census.columns.state))\n",
    "\n",
    "# Execute the query and store the results: rev_results\n",
    "rev_results = engine.execute(rev_stmt).fetchall()\n",
    "\n",
    "# Printing the rev_results using step 200\n",
    "print(rev_results[::200])"
   ]
  },
  {
   "cell_type": "markdown",
   "metadata": {},
   "source": [
    "__Sorting the results using order_by clause by using multiple columns for ordering__"
   ]
  },
  {
   "cell_type": "code",
   "execution_count": 163,
   "metadata": {},
   "outputs": [
    {
     "name": "stdout",
     "output_type": "stream",
     "text": [
      "[(u'Alabama', 85), (u'Alabama', 85), (u'Alabama', 84), (u'Alabama', 84), (u'Alabama', 83), (u'Alabama', 83), (u'Alabama', 82), (u'Alabama', 82), (u'Alabama', 81), (u'Alabama', 81), (u'Alabama', 80), (u'Alabama', 80), (u'Alabama', 79), (u'Alabama', 79), (u'Alabama', 78), (u'Alabama', 78), (u'Alabama', 77), (u'Alabama', 77), (u'Alabama', 76), (u'Alabama', 76)]\n"
     ]
    }
   ],
   "source": [
    "# Build a query to select state and age: stmt\n",
    "stmt = select([census.columns.state, census.columns.age])\n",
    "\n",
    "# Append order by to ascend by state and descend by age\n",
    "stmt = stmt.order_by(census.columns.state, desc(census.columns.age))\n",
    "\n",
    "# Execute the statement and store all the records: results\n",
    "results = engine.execute(stmt).fetchall()\n",
    "\n",
    "# Print the first 20 results\n",
    "print(results[:20])"
   ]
  },
  {
   "cell_type": "markdown",
   "metadata": {},
   "source": [
    "__Counting the number of distinct states in the census data using func.count() and .distinct() function__"
   ]
  },
  {
   "cell_type": "code",
   "execution_count": 164,
   "metadata": {},
   "outputs": [
    {
     "name": "stdout",
     "output_type": "stream",
     "text": [
      "51\n"
     ]
    }
   ],
   "source": [
    "# Build a query to count the distinct states values: stmt\n",
    "stmt = select([func.count(census.columns.state.distinct())])\n",
    "\n",
    "# Execute the query and store the scalar result: distinct_state_count\n",
    "distinct_state_count = engine.execute(stmt).scalar()\n",
    "\n",
    "# Print the distinct_state_count\n",
    "print(distinct_state_count)"
   ]
  },
  {
   "cell_type": "markdown",
   "metadata": {},
   "source": [
    "__Determining population by each state__"
   ]
  },
  {
   "cell_type": "code",
   "execution_count": 165,
   "metadata": {},
   "outputs": [
    {
     "name": "stdout",
     "output_type": "stream",
     "text": [
      "[(u'Alabama', 4649367), (u'Alaska', 664546), (u'Arizona', 6480767), (u'Arkansas', 2848432), (u'California', 36609002), (u'Colorado', 4912947), (u'Connecticut', 3493783), (u'Delaware', 869221), (u'District of Columbia', 588910), (u'Florida', 18257662), (u'Georgia', 9622508), (u'Hawaii', 1250676), (u'Idaho', 1518914), (u'Illinois', 12867077), (u'Indiana', 6373299), (u'Iowa', 3000490), (u'Kansas', 2782245), (u'Kentucky', 4254964), (u'Louisiana', 4395797), (u'Maine', 1312972), (u'Maryland', 5604174), (u'Massachusetts', 6492024), (u'Michigan', 9998854), (u'Minnesota', 5215815), (u'Mississippi', 2922355), (u'Missouri', 5891974), (u'Montana', 963802), (u'Nebraska', 1776757), (u'Nevada', 2579387), (u'New Hampshire', 1314533), (u'New Jersey', 8670204), (u'New Mexico', 1974993), (u'New York', 19465159), (u'North Carolina', 9121606), (u'North Dakota', 634282), (u'Ohio', 11476782), (u'Oklahoma', 3620620), (u'Oregon', 3786824), (u'Pennsylvania', 12440129), (u'Rhode Island', 1046535), (u'South Carolina', 4438870), (u'South Dakota', 800997), (u'Tennessee', 6202407), (u'Texas', 24214127), (u'Utah', 2730919), (u'Vermont', 620602), (u'Virginia', 7648902), (u'Washington', 6502019), (u'West Virginia', 1812879), (u'Wisconsin', 5625013), (u'Wyoming', 529490)]\n"
     ]
    }
   ],
   "source": [
    "# Build an expression to calculate the sum of pop2008 labeled as population\n",
    "pop2008_sum = func.sum(census.columns.pop2008).label('population')\n",
    "\n",
    "# Build a query to select the state and sum of pop2008: stmt\n",
    "stmt = select([census.columns.state, pop2008_sum])\n",
    "\n",
    "# Group stmt by state\n",
    "stmt = stmt.group_by(census.columns.state)\n",
    "\n",
    "# Execute the statement and store all the records: results\n",
    "results = engine.execute(stmt).fetchall()\n",
    "\n",
    "# Print results\n",
    "print(results)"
   ]
  },
  {
   "cell_type": "markdown",
   "metadata": {},
   "source": [
    "__Change in population from 200 to 2008__"
   ]
  },
  {
   "cell_type": "code",
   "execution_count": 166,
   "metadata": {},
   "outputs": [
    {
     "name": "stdout",
     "output_type": "stream",
     "text": [
      "California:105705\n",
      "Florida:100984\n",
      "Texas:51901\n",
      "New York:47098\n",
      "Pennsylvania:42387\n"
     ]
    }
   ],
   "source": [
    "# Build query to return state names by population difference from 2008 to 2000: stmt\n",
    "stmt = select([census.columns.state, (census.columns.pop2008-census.columns.pop2000).label('pop_change')])\n",
    "\n",
    "# Append group by for the state: stmt\n",
    "stmt = stmt.group_by(census.columns.state)\n",
    "\n",
    "# Append order by for pop_change descendingly: stmt\n",
    "stmt = stmt.order_by(desc('pop_change'))\n",
    "\n",
    "# Return only 5 results: stmt\n",
    "stmt = stmt.limit(5)\n",
    "\n",
    "# Use connection to execute the statement and fetch all results\n",
    "results = engine.execute(stmt).fetchall()\n",
    "\n",
    "# Print the state and population change for each record\n",
    "for result in results:\n",
    "    print('{}:{}'.format(result.state, result.pop_change))"
   ]
  },
  {
   "cell_type": "markdown",
   "metadata": {},
   "source": [
    "__Calculating percentage of female population in year 2000__"
   ]
  },
  {
   "cell_type": "code",
   "execution_count": 167,
   "metadata": {},
   "outputs": [
    {
     "name": "stdout",
     "output_type": "stream",
     "text": [
      "51.0946743229\n"
     ]
    }
   ],
   "source": [
    "# Build an expression to calculate female population in 2000\n",
    "female_pop2000 = func.sum(\n",
    "    case([\n",
    "        (census.columns.sex == 'F', census.columns.pop2000)\n",
    "    ], else_= 0))\n",
    "\n",
    "# Cast an expression to calculate total population in 2000 to Float\n",
    "total_pop2000 = cast(func.sum(census.columns.pop2000), Float)\n",
    "\n",
    "# Build a query to calculate the percentage of females in 2000: stmt\n",
    "stmt = select([female_pop2000 / total_pop2000 * 100])\n",
    "\n",
    "# Execute the query and store the scalar result: percent_female\n",
    "percent_female = engine.execute(stmt).scalar()\n",
    "\n",
    "# Print the percentage\n",
    "print(percent_female)\n"
   ]
  },
  {
   "cell_type": "markdown",
   "metadata": {},
   "source": [
    "___"
   ]
  },
  {
   "cell_type": "markdown",
   "metadata": {},
   "source": [
    "### Hierarchical Tables\n",
    "Using the same table but two different columns to perform queries"
   ]
  },
  {
   "cell_type": "markdown",
   "metadata": {},
   "source": [
    "__Using .alias() method to join tables with itself__"
   ]
  },
  {
   "cell_type": "code",
   "execution_count": 168,
   "metadata": {},
   "outputs": [
    {
     "name": "stdout",
     "output_type": "stream",
     "text": [
      "[(u'FILLMORE', u'GRANT'), (u'FILLMORE', u'ADAMS'), (u'FILLMORE', u'MONROE'), (u'GARFIELD', u'JOHNSON'), (u'GARFIELD', u'LINCOLN'), (u'GARFIELD', u'POLK'), (u'GARFIELD', u'WASHINGTON'), (u'HARDING', u'TAFT'), (u'HARDING', u'HOOVER'), (u'JACKSON', u'HARDING'), (u'JACKSON', u'GARFIELD'), (u'JACKSON', u'FILLMORE'), (u'JACKSON', u'ROOSEVELT')]\n"
     ]
    }
   ],
   "source": [
    "# Make an alias of the employees table: managers\n",
    "managers = employees.alias()\n",
    "\n",
    "# Build a query to select manager's and their employees names: stmt\n",
    "stmt = select(\n",
    "    [managers.columns.name.label('manager'),\n",
    "     employees.columns.name.label('employee')]\n",
    ")\n",
    "\n",
    "# Match managers id with employees mgr: stmt\n",
    "stmt = stmt.where(managers.columns.id == employees.columns.mgr)\n",
    "\n",
    "# Order the statement by the managers name: stmt\n",
    "stmt = stmt.order_by(managers.columns.name)\n",
    "\n",
    "# Execute statement: results\n",
    "results = employee.execute(stmt).fetchall()\n",
    "print(results)"
   ]
  },
  {
   "cell_type": "markdown",
   "metadata": {},
   "source": [
    "__Counting employees for each manager__"
   ]
  },
  {
   "cell_type": "code",
   "execution_count": 169,
   "metadata": {},
   "outputs": [
    {
     "name": "stdout",
     "output_type": "stream",
     "text": [
      "(u'FILLMORE', 3)\n",
      "(u'GARFIELD', 4)\n",
      "(u'HARDING', 2)\n",
      "(u'JACKSON', 4)\n"
     ]
    }
   ],
   "source": [
    "# Make an alias of the employees table: managers\n",
    "managers = employees.alias()\n",
    "\n",
    "# Build a query to select managers and counts of their employees: stmt\n",
    "stmt = select([managers.columns.name, func.count(employees.columns.id)])\n",
    "\n",
    "# Append a where clause that ensures the manager id and employee mgr are equal\n",
    "stmt = stmt.where(managers.columns.id == employees.columns.mgr)\n",
    "\n",
    "# Group by Managers Name\n",
    "stmt = stmt.group_by(managers.columns.name)\n",
    "\n",
    "# Execute statement: results\n",
    "results = employee.execute(stmt).fetchall()\n",
    "\n",
    "# print manager\n",
    "for record in results:\n",
    "    print(record)"
   ]
  },
  {
   "cell_type": "markdown",
   "metadata": {},
   "source": [
    "____"
   ]
  },
  {
   "cell_type": "markdown",
   "metadata": {},
   "source": [
    "____"
   ]
  }
 ],
 "metadata": {
  "kernelspec": {
   "display_name": "Python 2",
   "language": "python",
   "name": "python2"
  },
  "language_info": {
   "codemirror_mode": {
    "name": "ipython",
    "version": 2
   },
   "file_extension": ".py",
   "mimetype": "text/x-python",
   "name": "python",
   "nbconvert_exporter": "python",
   "pygments_lexer": "ipython2",
   "version": "2.7.13"
  }
 },
 "nbformat": 4,
 "nbformat_minor": 2
}
